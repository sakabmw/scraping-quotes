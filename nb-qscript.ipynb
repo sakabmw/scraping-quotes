{
 "cells": [
  {
   "cell_type": "markdown",
   "metadata": {},
   "source": [
    "# Test Notebook"
   ]
  },
  {
   "cell_type": "code",
   "execution_count": 1,
   "metadata": {},
   "outputs": [],
   "source": [
    "import requests\n",
    "from bs4 import BeautifulSoup\n",
    "import pandas as pd\n",
    "import re\n",
    "\n",
    "# URL of the website to scrape\n",
    "url_base = \"http://quotes.toscrape.com\"\n",
    "\n",
    "# List to store scraped data\n",
    "list_quote = []"
   ]
  },
  {
   "cell_type": "code",
   "execution_count": 2,
   "metadata": {},
   "outputs": [],
   "source": [
    "response = requests.get(url_base)\n",
    "soup = BeautifulSoup(response.text, 'html.parser')\n",
    "quotes = soup.find_all('div', class_='quote')"
   ]
  },
  {
   "cell_type": "code",
   "execution_count": 3,
   "metadata": {},
   "outputs": [],
   "source": [
    "from data_scraping import data_scraper\n",
    "from data_cleaning import data_cleaner"
   ]
  },
  {
   "cell_type": "code",
   "execution_count": 4,
   "metadata": {},
   "outputs": [
    {
     "name": "stdout",
     "output_type": "stream",
     "text": [
      "=== Get response from http://quotes.toscrape.com. ===\n",
      "=== Status code 200. ===\n",
      "=== Start scraping. ===\n",
      "=== Done scraping. ===\n",
      "=== Move to the next page. ===\n",
      "=== Get response from http://quotes.toscrape.com/page/2/. ===\n",
      "=== Status code 200. ===\n",
      "=== Start scraping. ===\n",
      "=== Done scraping. ===\n",
      "=== Move to the next page. ===\n",
      "=== Get response from http://quotes.toscrape.com/page/3/. ===\n",
      "=== Status code 200. ===\n",
      "=== Start scraping. ===\n",
      "=== Done scraping. ===\n",
      "=== Move to the next page. ===\n",
      "=== Get response from http://quotes.toscrape.com/page/4/. ===\n",
      "=== Status code 200. ===\n",
      "=== Start scraping. ===\n",
      "=== Done scraping. ===\n",
      "=== Move to the next page. ===\n",
      "=== Get response from http://quotes.toscrape.com/page/5/. ===\n",
      "=== Status code 200. ===\n",
      "=== Start scraping. ===\n",
      "=== Done scraping. ===\n",
      "=== Move to the next page. ===\n",
      "=== Get response from http://quotes.toscrape.com/page/6/. ===\n",
      "=== Status code 200. ===\n",
      "=== Start scraping. ===\n",
      "=== Done scraping. ===\n",
      "=== Move to the next page. ===\n",
      "=== Get response from http://quotes.toscrape.com/page/7/. ===\n",
      "=== Status code 200. ===\n",
      "=== Start scraping. ===\n",
      "=== Done scraping. ===\n",
      "=== Move to the next page. ===\n",
      "=== Get response from http://quotes.toscrape.com/page/8/. ===\n",
      "=== Status code 200. ===\n",
      "=== Start scraping. ===\n",
      "=== Done scraping. ===\n",
      "=== Move to the next page. ===\n",
      "=== Get response from http://quotes.toscrape.com/page/9/. ===\n",
      "=== Status code 200. ===\n",
      "=== Start scraping. ===\n",
      "=== Done scraping. ===\n",
      "=== Move to the next page. ===\n",
      "=== Get response from http://quotes.toscrape.com/page/10/. ===\n",
      "=== Status code 200. ===\n",
      "=== Start scraping. ===\n",
      "=== Done scraping. ===\n",
      "=== All pages have been covered. ===\n",
      "=== Scraping completed. ===\n"
     ]
    }
   ],
   "source": [
    "# Scrape the data\n",
    "scraped_data = data_scraper(url_base)\n",
    "\n",
    "# Save raw data\n",
    "raw_file = \"quotes_raw.csv\"\n",
    "scraped_data.to_csv(raw_file, index=False)"
   ]
  },
  {
   "cell_type": "code",
   "execution_count": 5,
   "metadata": {},
   "outputs": [
    {
     "name": "stdout",
     "output_type": "stream",
     "text": [
      "=== Remove special characters in column `quote`. ===\n",
      "=== Cleaning done. Now storing the cleaned data in a new CSV file. ===\n",
      "=== The new CSV file has been created, named as quotes_clean.csv ===\n"
     ]
    }
   ],
   "source": [
    "# Clean the data\n",
    "cleaned_file = \"quotes_clean.csv\"\n",
    "data_cleaner(raw_file, cleaned_file)"
   ]
  },
  {
   "cell_type": "code",
   "execution_count": 6,
   "metadata": {},
   "outputs": [
    {
     "data": {
      "text/html": [
       "<div>\n",
       "<style scoped>\n",
       "    .dataframe tbody tr th:only-of-type {\n",
       "        vertical-align: middle;\n",
       "    }\n",
       "\n",
       "    .dataframe tbody tr th {\n",
       "        vertical-align: top;\n",
       "    }\n",
       "\n",
       "    .dataframe thead th {\n",
       "        text-align: right;\n",
       "    }\n",
       "</style>\n",
       "<table border=\"1\" class=\"dataframe\">\n",
       "  <thead>\n",
       "    <tr style=\"text-align: right;\">\n",
       "      <th></th>\n",
       "      <th>quote</th>\n",
       "      <th>author</th>\n",
       "      <th>tag</th>\n",
       "    </tr>\n",
       "  </thead>\n",
       "  <tbody>\n",
       "    <tr>\n",
       "      <th>0</th>\n",
       "      <td>The world as we have created it is a process o...</td>\n",
       "      <td>Albert Einstein</td>\n",
       "      <td>change, deep-thoughts, thinking, world</td>\n",
       "    </tr>\n",
       "    <tr>\n",
       "      <th>1</th>\n",
       "      <td>It is our choices Harry that show what we trul...</td>\n",
       "      <td>J.K. Rowling</td>\n",
       "      <td>abilities, choices</td>\n",
       "    </tr>\n",
       "    <tr>\n",
       "      <th>2</th>\n",
       "      <td>There are only two ways to live your life One ...</td>\n",
       "      <td>Albert Einstein</td>\n",
       "      <td>inspirational, life, live, miracle, miracles</td>\n",
       "    </tr>\n",
       "    <tr>\n",
       "      <th>3</th>\n",
       "      <td>The person be it gentleman or lady who has not...</td>\n",
       "      <td>Jane Austen</td>\n",
       "      <td>aliteracy, books, classic, humor</td>\n",
       "    </tr>\n",
       "    <tr>\n",
       "      <th>4</th>\n",
       "      <td>Imperfection is beauty madness is genius and i...</td>\n",
       "      <td>Marilyn Monroe</td>\n",
       "      <td>be-yourself, inspirational</td>\n",
       "    </tr>\n",
       "  </tbody>\n",
       "</table>\n",
       "</div>"
      ],
      "text/plain": [
       "                                               quote           author  \\\n",
       "0  The world as we have created it is a process o...  Albert Einstein   \n",
       "1  It is our choices Harry that show what we trul...     J.K. Rowling   \n",
       "2  There are only two ways to live your life One ...  Albert Einstein   \n",
       "3  The person be it gentleman or lady who has not...      Jane Austen   \n",
       "4  Imperfection is beauty madness is genius and i...   Marilyn Monroe   \n",
       "\n",
       "                                            tag  \n",
       "0        change, deep-thoughts, thinking, world  \n",
       "1                            abilities, choices  \n",
       "2  inspirational, life, live, miracle, miracles  \n",
       "3              aliteracy, books, classic, humor  \n",
       "4                    be-yourself, inspirational  "
      ]
     },
     "execution_count": 6,
     "metadata": {},
     "output_type": "execute_result"
    }
   ],
   "source": [
    "# Load the cleaned data for analysis\n",
    "data = pd.read_csv(cleaned_file)\n",
    "data.head()"
   ]
  },
  {
   "cell_type": "code",
   "execution_count": 7,
   "metadata": {},
   "outputs": [
    {
     "name": "stdout",
     "output_type": "stream",
     "text": [
      "<class 'pandas.core.frame.DataFrame'>\n",
      "RangeIndex: 100 entries, 0 to 99\n",
      "Data columns (total 3 columns):\n",
      " #   Column  Non-Null Count  Dtype \n",
      "---  ------  --------------  ----- \n",
      " 0   quote   100 non-null    object\n",
      " 1   author  100 non-null    object\n",
      " 2   tag     97 non-null     object\n",
      "dtypes: object(3)\n",
      "memory usage: 2.5+ KB\n"
     ]
    }
   ],
   "source": [
    "data.info()"
   ]
  },
  {
   "cell_type": "code",
   "execution_count": 8,
   "metadata": {},
   "outputs": [
    {
     "data": {
      "text/html": [
       "<div>\n",
       "<style scoped>\n",
       "    .dataframe tbody tr th:only-of-type {\n",
       "        vertical-align: middle;\n",
       "    }\n",
       "\n",
       "    .dataframe tbody tr th {\n",
       "        vertical-align: top;\n",
       "    }\n",
       "\n",
       "    .dataframe thead th {\n",
       "        text-align: right;\n",
       "    }\n",
       "</style>\n",
       "<table border=\"1\" class=\"dataframe\">\n",
       "  <thead>\n",
       "    <tr style=\"text-align: right;\">\n",
       "      <th></th>\n",
       "      <th>quote</th>\n",
       "      <th>author</th>\n",
       "      <th>tag</th>\n",
       "    </tr>\n",
       "  </thead>\n",
       "  <tbody>\n",
       "    <tr>\n",
       "      <th>count</th>\n",
       "      <td>100</td>\n",
       "      <td>100</td>\n",
       "      <td>97</td>\n",
       "    </tr>\n",
       "    <tr>\n",
       "      <th>unique</th>\n",
       "      <td>100</td>\n",
       "      <td>50</td>\n",
       "      <td>83</td>\n",
       "    </tr>\n",
       "    <tr>\n",
       "      <th>top</th>\n",
       "      <td>The world as we have created it is a process o...</td>\n",
       "      <td>Albert Einstein</td>\n",
       "      <td>love</td>\n",
       "    </tr>\n",
       "    <tr>\n",
       "      <th>freq</th>\n",
       "      <td>1</td>\n",
       "      <td>10</td>\n",
       "      <td>4</td>\n",
       "    </tr>\n",
       "  </tbody>\n",
       "</table>\n",
       "</div>"
      ],
      "text/plain": [
       "                                                    quote           author  \\\n",
       "count                                                 100              100   \n",
       "unique                                                100               50   \n",
       "top     The world as we have created it is a process o...  Albert Einstein   \n",
       "freq                                                    1               10   \n",
       "\n",
       "         tag  \n",
       "count     97  \n",
       "unique    83  \n",
       "top     love  \n",
       "freq       4  "
      ]
     },
     "execution_count": 8,
     "metadata": {},
     "output_type": "execute_result"
    }
   ],
   "source": [
    "data.describe()"
   ]
  },
  {
   "cell_type": "code",
   "execution_count": null,
   "metadata": {},
   "outputs": [],
   "source": []
  }
 ],
 "metadata": {
  "kernelspec": {
   "display_name": "qenv",
   "language": "python",
   "name": "python3"
  },
  "language_info": {
   "codemirror_mode": {
    "name": "ipython",
    "version": 3
   },
   "file_extension": ".py",
   "mimetype": "text/x-python",
   "name": "python",
   "nbconvert_exporter": "python",
   "pygments_lexer": "ipython3",
   "version": "3.8.5"
  }
 },
 "nbformat": 4,
 "nbformat_minor": 2
}
